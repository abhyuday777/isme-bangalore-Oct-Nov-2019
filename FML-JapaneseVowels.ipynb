{
 "cells": [
  {
   "cell_type": "code",
   "execution_count": 1,
   "metadata": {},
   "outputs": [],
   "source": [
    "import os\n",
    "import pandas as pd"
   ]
  },
  {
   "cell_type": "code",
   "execution_count": 2,
   "metadata": {},
   "outputs": [
    {
     "data": {
      "text/plain": [
       "'/Users/abhyudayjampu/Documents/ISME'"
      ]
     },
     "execution_count": 2,
     "metadata": {},
     "output_type": "execute_result"
    }
   ],
   "source": [
    "%pwd"
   ]
  },
  {
   "cell_type": "code",
   "execution_count": 3,
   "metadata": {},
   "outputs": [],
   "source": [
    "FML=pd.read_csv('JapaneseVowels.csv',sep=\",\")"
   ]
  },
  {
   "cell_type": "code",
   "execution_count": 4,
   "metadata": {},
   "outputs": [
    {
     "data": {
      "text/html": [
       "<div>\n",
       "<style scoped>\n",
       "    .dataframe tbody tr th:only-of-type {\n",
       "        vertical-align: middle;\n",
       "    }\n",
       "\n",
       "    .dataframe tbody tr th {\n",
       "        vertical-align: top;\n",
       "    }\n",
       "\n",
       "    .dataframe thead th {\n",
       "        text-align: right;\n",
       "    }\n",
       "</style>\n",
       "<table border=\"1\" class=\"dataframe\">\n",
       "  <thead>\n",
       "    <tr style=\"text-align: right;\">\n",
       "      <th></th>\n",
       "      <th>speaker</th>\n",
       "      <th>utterance</th>\n",
       "      <th>frame</th>\n",
       "      <th>coefficient1</th>\n",
       "      <th>coefficient2</th>\n",
       "      <th>coefficient3</th>\n",
       "      <th>coefficient4</th>\n",
       "      <th>coefficient5</th>\n",
       "      <th>coefficient6</th>\n",
       "      <th>coefficient7</th>\n",
       "      <th>coefficient8</th>\n",
       "      <th>coefficient9</th>\n",
       "      <th>coefficient10</th>\n",
       "      <th>coefficient11</th>\n",
       "      <th>coefficient12</th>\n",
       "    </tr>\n",
       "  </thead>\n",
       "  <tbody>\n",
       "    <tr>\n",
       "      <td>0</td>\n",
       "      <td>1</td>\n",
       "      <td>1</td>\n",
       "      <td>1</td>\n",
       "      <td>1.860936</td>\n",
       "      <td>-0.207383</td>\n",
       "      <td>0.261557</td>\n",
       "      <td>-0.214562</td>\n",
       "      <td>-0.171253</td>\n",
       "      <td>-0.118167</td>\n",
       "      <td>-0.277557</td>\n",
       "      <td>0.025668</td>\n",
       "      <td>0.126701</td>\n",
       "      <td>-0.306756</td>\n",
       "      <td>-0.213076</td>\n",
       "      <td>0.088728</td>\n",
       "    </tr>\n",
       "    <tr>\n",
       "      <td>1</td>\n",
       "      <td>1</td>\n",
       "      <td>1</td>\n",
       "      <td>2</td>\n",
       "      <td>1.891651</td>\n",
       "      <td>-0.193249</td>\n",
       "      <td>0.235363</td>\n",
       "      <td>-0.249118</td>\n",
       "      <td>-0.112890</td>\n",
       "      <td>-0.112238</td>\n",
       "      <td>-0.311997</td>\n",
       "      <td>-0.027122</td>\n",
       "      <td>0.171457</td>\n",
       "      <td>-0.289431</td>\n",
       "      <td>-0.247722</td>\n",
       "      <td>0.093011</td>\n",
       "    </tr>\n",
       "    <tr>\n",
       "      <td>2</td>\n",
       "      <td>1</td>\n",
       "      <td>1</td>\n",
       "      <td>3</td>\n",
       "      <td>1.939205</td>\n",
       "      <td>-0.239664</td>\n",
       "      <td>0.258561</td>\n",
       "      <td>-0.291458</td>\n",
       "      <td>-0.041053</td>\n",
       "      <td>-0.102034</td>\n",
       "      <td>-0.383300</td>\n",
       "      <td>0.019013</td>\n",
       "      <td>0.169510</td>\n",
       "      <td>-0.314894</td>\n",
       "      <td>-0.227908</td>\n",
       "      <td>0.074638</td>\n",
       "    </tr>\n",
       "    <tr>\n",
       "      <td>3</td>\n",
       "      <td>1</td>\n",
       "      <td>1</td>\n",
       "      <td>4</td>\n",
       "      <td>1.717517</td>\n",
       "      <td>-0.218572</td>\n",
       "      <td>0.217119</td>\n",
       "      <td>-0.228186</td>\n",
       "      <td>-0.018608</td>\n",
       "      <td>-0.137624</td>\n",
       "      <td>-0.403318</td>\n",
       "      <td>-0.009643</td>\n",
       "      <td>0.164607</td>\n",
       "      <td>-0.323267</td>\n",
       "      <td>-0.210105</td>\n",
       "      <td>0.098098</td>\n",
       "    </tr>\n",
       "    <tr>\n",
       "      <td>4</td>\n",
       "      <td>1</td>\n",
       "      <td>1</td>\n",
       "      <td>5</td>\n",
       "      <td>1.741191</td>\n",
       "      <td>-0.279891</td>\n",
       "      <td>0.196583</td>\n",
       "      <td>-0.236377</td>\n",
       "      <td>-0.032012</td>\n",
       "      <td>-0.090612</td>\n",
       "      <td>-0.363134</td>\n",
       "      <td>-0.012571</td>\n",
       "      <td>0.124298</td>\n",
       "      <td>-0.351171</td>\n",
       "      <td>-0.216545</td>\n",
       "      <td>0.113899</td>\n",
       "    </tr>\n",
       "    <tr>\n",
       "      <td>...</td>\n",
       "      <td>...</td>\n",
       "      <td>...</td>\n",
       "      <td>...</td>\n",
       "      <td>...</td>\n",
       "      <td>...</td>\n",
       "      <td>...</td>\n",
       "      <td>...</td>\n",
       "      <td>...</td>\n",
       "      <td>...</td>\n",
       "      <td>...</td>\n",
       "      <td>...</td>\n",
       "      <td>...</td>\n",
       "      <td>...</td>\n",
       "      <td>...</td>\n",
       "      <td>...</td>\n",
       "    </tr>\n",
       "    <tr>\n",
       "      <td>9956</td>\n",
       "      <td>9</td>\n",
       "      <td>29</td>\n",
       "      <td>7</td>\n",
       "      <td>1.216506</td>\n",
       "      <td>-0.424432</td>\n",
       "      <td>-0.034349</td>\n",
       "      <td>-0.294238</td>\n",
       "      <td>0.166270</td>\n",
       "      <td>-0.397758</td>\n",
       "      <td>0.091827</td>\n",
       "      <td>0.023178</td>\n",
       "      <td>-0.191598</td>\n",
       "      <td>-0.111245</td>\n",
       "      <td>-0.011547</td>\n",
       "      <td>0.425088</td>\n",
       "    </tr>\n",
       "    <tr>\n",
       "      <td>9957</td>\n",
       "      <td>9</td>\n",
       "      <td>29</td>\n",
       "      <td>8</td>\n",
       "      <td>1.214579</td>\n",
       "      <td>-0.399925</td>\n",
       "      <td>-0.127891</td>\n",
       "      <td>-0.239583</td>\n",
       "      <td>0.221423</td>\n",
       "      <td>-0.374714</td>\n",
       "      <td>0.046216</td>\n",
       "      <td>0.051754</td>\n",
       "      <td>-0.197824</td>\n",
       "      <td>-0.099159</td>\n",
       "      <td>-0.018177</td>\n",
       "      <td>0.359986</td>\n",
       "    </tr>\n",
       "    <tr>\n",
       "      <td>9958</td>\n",
       "      <td>9</td>\n",
       "      <td>29</td>\n",
       "      <td>9</td>\n",
       "      <td>1.170031</td>\n",
       "      <td>-0.306025</td>\n",
       "      <td>-0.145534</td>\n",
       "      <td>-0.195854</td>\n",
       "      <td>0.276371</td>\n",
       "      <td>-0.346794</td>\n",
       "      <td>0.042325</td>\n",
       "      <td>0.031668</td>\n",
       "      <td>-0.181205</td>\n",
       "      <td>-0.077962</td>\n",
       "      <td>-0.024079</td>\n",
       "      <td>0.305890</td>\n",
       "    </tr>\n",
       "    <tr>\n",
       "      <td>9959</td>\n",
       "      <td>9</td>\n",
       "      <td>29</td>\n",
       "      <td>10</td>\n",
       "      <td>1.118108</td>\n",
       "      <td>-0.258605</td>\n",
       "      <td>-0.103982</td>\n",
       "      <td>-0.231256</td>\n",
       "      <td>0.344866</td>\n",
       "      <td>-0.223807</td>\n",
       "      <td>-0.014415</td>\n",
       "      <td>-0.046215</td>\n",
       "      <td>-0.219385</td>\n",
       "      <td>0.013357</td>\n",
       "      <td>-0.010018</td>\n",
       "      <td>0.192860</td>\n",
       "    </tr>\n",
       "    <tr>\n",
       "      <td>9960</td>\n",
       "      <td>9</td>\n",
       "      <td>29</td>\n",
       "      <td>11</td>\n",
       "      <td>1.177449</td>\n",
       "      <td>-0.404080</td>\n",
       "      <td>0.052026</td>\n",
       "      <td>-0.284812</td>\n",
       "      <td>0.429840</td>\n",
       "      <td>-0.203484</td>\n",
       "      <td>-0.072393</td>\n",
       "      <td>-0.080955</td>\n",
       "      <td>-0.244424</td>\n",
       "      <td>-0.001849</td>\n",
       "      <td>-0.016634</td>\n",
       "      <td>0.224688</td>\n",
       "    </tr>\n",
       "  </tbody>\n",
       "</table>\n",
       "<p>9961 rows × 15 columns</p>\n",
       "</div>"
      ],
      "text/plain": [
       "      speaker  utterance  frame  coefficient1  coefficient2  coefficient3  \\\n",
       "0           1          1      1      1.860936     -0.207383      0.261557   \n",
       "1           1          1      2      1.891651     -0.193249      0.235363   \n",
       "2           1          1      3      1.939205     -0.239664      0.258561   \n",
       "3           1          1      4      1.717517     -0.218572      0.217119   \n",
       "4           1          1      5      1.741191     -0.279891      0.196583   \n",
       "...       ...        ...    ...           ...           ...           ...   \n",
       "9956        9         29      7      1.216506     -0.424432     -0.034349   \n",
       "9957        9         29      8      1.214579     -0.399925     -0.127891   \n",
       "9958        9         29      9      1.170031     -0.306025     -0.145534   \n",
       "9959        9         29     10      1.118108     -0.258605     -0.103982   \n",
       "9960        9         29     11      1.177449     -0.404080      0.052026   \n",
       "\n",
       "      coefficient4  coefficient5  coefficient6  coefficient7  coefficient8  \\\n",
       "0        -0.214562     -0.171253     -0.118167     -0.277557      0.025668   \n",
       "1        -0.249118     -0.112890     -0.112238     -0.311997     -0.027122   \n",
       "2        -0.291458     -0.041053     -0.102034     -0.383300      0.019013   \n",
       "3        -0.228186     -0.018608     -0.137624     -0.403318     -0.009643   \n",
       "4        -0.236377     -0.032012     -0.090612     -0.363134     -0.012571   \n",
       "...            ...           ...           ...           ...           ...   \n",
       "9956     -0.294238      0.166270     -0.397758      0.091827      0.023178   \n",
       "9957     -0.239583      0.221423     -0.374714      0.046216      0.051754   \n",
       "9958     -0.195854      0.276371     -0.346794      0.042325      0.031668   \n",
       "9959     -0.231256      0.344866     -0.223807     -0.014415     -0.046215   \n",
       "9960     -0.284812      0.429840     -0.203484     -0.072393     -0.080955   \n",
       "\n",
       "      coefficient9  coefficient10  coefficient11  coefficient12  \n",
       "0         0.126701      -0.306756      -0.213076       0.088728  \n",
       "1         0.171457      -0.289431      -0.247722       0.093011  \n",
       "2         0.169510      -0.314894      -0.227908       0.074638  \n",
       "3         0.164607      -0.323267      -0.210105       0.098098  \n",
       "4         0.124298      -0.351171      -0.216545       0.113899  \n",
       "...            ...            ...            ...            ...  \n",
       "9956     -0.191598      -0.111245      -0.011547       0.425088  \n",
       "9957     -0.197824      -0.099159      -0.018177       0.359986  \n",
       "9958     -0.181205      -0.077962      -0.024079       0.305890  \n",
       "9959     -0.219385       0.013357      -0.010018       0.192860  \n",
       "9960     -0.244424      -0.001849      -0.016634       0.224688  \n",
       "\n",
       "[9961 rows x 15 columns]"
      ]
     },
     "execution_count": 4,
     "metadata": {},
     "output_type": "execute_result"
    }
   ],
   "source": [
    "FML"
   ]
  },
  {
   "cell_type": "code",
   "execution_count": 5,
   "metadata": {},
   "outputs": [
    {
     "name": "stdout",
     "output_type": "stream",
     "text": [
      "<class 'pandas.core.frame.DataFrame'>\n",
      "RangeIndex: 9961 entries, 0 to 9960\n",
      "Data columns (total 15 columns):\n",
      "speaker          9961 non-null int64\n",
      "utterance        9961 non-null int64\n",
      "frame            9961 non-null int64\n",
      "coefficient1     9961 non-null float64\n",
      "coefficient2     9961 non-null float64\n",
      "coefficient3     9961 non-null float64\n",
      "coefficient4     9961 non-null float64\n",
      "coefficient5     9961 non-null float64\n",
      "coefficient6     9961 non-null float64\n",
      "coefficient7     9961 non-null float64\n",
      "coefficient8     9961 non-null float64\n",
      "coefficient9     9961 non-null float64\n",
      "coefficient10    9961 non-null float64\n",
      "coefficient11    9961 non-null float64\n",
      "coefficient12    9961 non-null float64\n",
      "dtypes: float64(12), int64(3)\n",
      "memory usage: 1.1 MB\n"
     ]
    }
   ],
   "source": [
    "FML.info()"
   ]
  },
  {
   "cell_type": "code",
   "execution_count": 7,
   "metadata": {
    "scrolled": true
   },
   "outputs": [
    {
     "data": {
      "text/html": [
       "<div>\n",
       "<style scoped>\n",
       "    .dataframe tbody tr th:only-of-type {\n",
       "        vertical-align: middle;\n",
       "    }\n",
       "\n",
       "    .dataframe tbody tr th {\n",
       "        vertical-align: top;\n",
       "    }\n",
       "\n",
       "    .dataframe thead th {\n",
       "        text-align: right;\n",
       "    }\n",
       "</style>\n",
       "<table border=\"1\" class=\"dataframe\">\n",
       "  <thead>\n",
       "    <tr style=\"text-align: right;\">\n",
       "      <th></th>\n",
       "      <th></th>\n",
       "      <th>min</th>\n",
       "      <th>max</th>\n",
       "      <th>mean</th>\n",
       "    </tr>\n",
       "    <tr>\n",
       "      <th>speaker</th>\n",
       "      <th>utterance</th>\n",
       "      <th></th>\n",
       "      <th></th>\n",
       "      <th></th>\n",
       "    </tr>\n",
       "  </thead>\n",
       "  <tbody>\n",
       "    <tr>\n",
       "      <td rowspan=\"5\" valign=\"top\">1</td>\n",
       "      <td>1</td>\n",
       "      <td>1</td>\n",
       "      <td>20</td>\n",
       "      <td>10.256410</td>\n",
       "    </tr>\n",
       "    <tr>\n",
       "      <td>2</td>\n",
       "      <td>1</td>\n",
       "      <td>26</td>\n",
       "      <td>11.720930</td>\n",
       "    </tr>\n",
       "    <tr>\n",
       "      <td>3</td>\n",
       "      <td>1</td>\n",
       "      <td>22</td>\n",
       "      <td>10.804878</td>\n",
       "    </tr>\n",
       "    <tr>\n",
       "      <td>4</td>\n",
       "      <td>1</td>\n",
       "      <td>20</td>\n",
       "      <td>10.026316</td>\n",
       "    </tr>\n",
       "    <tr>\n",
       "      <td>5</td>\n",
       "      <td>1</td>\n",
       "      <td>24</td>\n",
       "      <td>11.800000</td>\n",
       "    </tr>\n",
       "    <tr>\n",
       "      <td>...</td>\n",
       "      <td>...</td>\n",
       "      <td>...</td>\n",
       "      <td>...</td>\n",
       "      <td>...</td>\n",
       "    </tr>\n",
       "    <tr>\n",
       "      <td rowspan=\"5\" valign=\"top\">9</td>\n",
       "      <td>26</td>\n",
       "      <td>1</td>\n",
       "      <td>15</td>\n",
       "      <td>7.333333</td>\n",
       "    </tr>\n",
       "    <tr>\n",
       "      <td>27</td>\n",
       "      <td>1</td>\n",
       "      <td>17</td>\n",
       "      <td>8.531250</td>\n",
       "    </tr>\n",
       "    <tr>\n",
       "      <td>28</td>\n",
       "      <td>1</td>\n",
       "      <td>14</td>\n",
       "      <td>7.038462</td>\n",
       "    </tr>\n",
       "    <tr>\n",
       "      <td>29</td>\n",
       "      <td>1</td>\n",
       "      <td>14</td>\n",
       "      <td>6.840000</td>\n",
       "    </tr>\n",
       "    <tr>\n",
       "      <td>30</td>\n",
       "      <td>1</td>\n",
       "      <td>9</td>\n",
       "      <td>5.000000</td>\n",
       "    </tr>\n",
       "  </tbody>\n",
       "</table>\n",
       "<p>378 rows × 3 columns</p>\n",
       "</div>"
      ],
      "text/plain": [
       "                   min  max       mean\n",
       "speaker utterance                     \n",
       "1       1            1   20  10.256410\n",
       "        2            1   26  11.720930\n",
       "        3            1   22  10.804878\n",
       "        4            1   20  10.026316\n",
       "        5            1   24  11.800000\n",
       "...                ...  ...        ...\n",
       "9       26           1   15   7.333333\n",
       "        27           1   17   8.531250\n",
       "        28           1   14   7.038462\n",
       "        29           1   14   6.840000\n",
       "        30           1    9   5.000000\n",
       "\n",
       "[378 rows x 3 columns]"
      ]
     },
     "execution_count": 7,
     "metadata": {},
     "output_type": "execute_result"
    }
   ],
   "source": [
    "FML.groupby(['speaker','utterance'])['frame'].agg(['min','max','mean'])"
   ]
  },
  {
   "cell_type": "code",
   "execution_count": 8,
   "metadata": {},
   "outputs": [
    {
     "data": {
      "text/plain": [
       "count    9961.000000\n",
       "mean        4.771308\n",
       "std         2.502630\n",
       "min         1.000000\n",
       "25%         3.000000\n",
       "50%         4.000000\n",
       "75%         7.000000\n",
       "max         9.000000\n",
       "Name: speaker, dtype: float64"
      ]
     },
     "execution_count": 8,
     "metadata": {},
     "output_type": "execute_result"
    }
   ],
   "source": [
    "FML['speaker'].describe()"
   ]
  },
  {
   "cell_type": "code",
   "execution_count": 9,
   "metadata": {},
   "outputs": [
    {
     "data": {
      "text/plain": [
       "count    9961.000000\n",
       "mean       20.364321\n",
       "std        15.878836\n",
       "min         1.000000\n",
       "25%         9.000000\n",
       "50%        18.000000\n",
       "75%        27.000000\n",
       "max        88.000000\n",
       "Name: utterance, dtype: float64"
      ]
     },
     "execution_count": 9,
     "metadata": {},
     "output_type": "execute_result"
    }
   ],
   "source": [
    "FML['utterance'].describe()"
   ]
  },
  {
   "cell_type": "code",
   "execution_count": 10,
   "metadata": {},
   "outputs": [
    {
     "data": {
      "text/plain": [
       "count    9961.000000\n",
       "mean        8.703142\n",
       "std         5.197458\n",
       "min         1.000000\n",
       "25%         4.000000\n",
       "50%         8.000000\n",
       "75%        12.000000\n",
       "max        29.000000\n",
       "Name: frame, dtype: float64"
      ]
     },
     "execution_count": 10,
     "metadata": {},
     "output_type": "execute_result"
    }
   ],
   "source": [
    "FML['frame'].describe()"
   ]
  },
  {
   "cell_type": "code",
   "execution_count": 12,
   "metadata": {},
   "outputs": [],
   "source": [
    "FML['utterance_group']=['<=10' if x<=10\n",
    "                      else'11-30' if x<=30\n",
    "                      else'31-50' if x<=50\n",
    "                      else'50-70' if x<=70\n",
    "                      else'71-90' if x<=90\n",
    "                      else 'N/A'for x in FML['utterance']]"
   ]
  },
  {
   "cell_type": "code",
   "execution_count": 15,
   "metadata": {},
   "outputs": [
    {
     "data": {
      "text/plain": [
       "count      9961\n",
       "unique        5\n",
       "top       11-30\n",
       "freq       5487\n",
       "Name: utterance_group, dtype: object"
      ]
     },
     "execution_count": 15,
     "metadata": {},
     "output_type": "execute_result"
    }
   ],
   "source": [
    "FML['utterance_group'].describe()"
   ]
  },
  {
   "cell_type": "code",
   "execution_count": 17,
   "metadata": {},
   "outputs": [],
   "source": [
    "FML['frame_group']=['<=5' if x<=5\n",
    "                      else'6-10' if x<=10\n",
    "                      else'11-15' if x<=15\n",
    "                      else'15-20' if x<=20\n",
    "                      else'21-25' if x<=25\n",
    "                      else '>25'for x in FML['frame']]"
   ]
  },
  {
   "cell_type": "code",
   "execution_count": 18,
   "metadata": {},
   "outputs": [
    {
     "data": {
      "text/plain": [
       "0         <=5\n",
       "1         <=5\n",
       "2         <=5\n",
       "3         <=5\n",
       "4         <=5\n",
       "        ...  \n",
       "9956     6-10\n",
       "9957     6-10\n",
       "9958     6-10\n",
       "9959     6-10\n",
       "9960    11-15\n",
       "Name: frame_group, Length: 9961, dtype: object"
      ]
     },
     "execution_count": 18,
     "metadata": {},
     "output_type": "execute_result"
    }
   ],
   "source": [
    "FML['frame_group']"
   ]
  },
  {
   "cell_type": "code",
   "execution_count": 19,
   "metadata": {},
   "outputs": [
    {
     "data": {
      "text/plain": [
       "count     9961\n",
       "unique       6\n",
       "top        <=5\n",
       "freq      3200\n",
       "Name: frame_group, dtype: object"
      ]
     },
     "execution_count": 19,
     "metadata": {},
     "output_type": "execute_result"
    }
   ],
   "source": [
    "FML['frame_group'].describe()"
   ]
  },
  {
   "cell_type": "code",
   "execution_count": 20,
   "metadata": {},
   "outputs": [
    {
     "data": {
      "text/html": [
       "<div>\n",
       "<style scoped>\n",
       "    .dataframe tbody tr th:only-of-type {\n",
       "        vertical-align: middle;\n",
       "    }\n",
       "\n",
       "    .dataframe tbody tr th {\n",
       "        vertical-align: top;\n",
       "    }\n",
       "\n",
       "    .dataframe thead th {\n",
       "        text-align: right;\n",
       "    }\n",
       "</style>\n",
       "<table border=\"1\" class=\"dataframe\">\n",
       "  <thead>\n",
       "    <tr style=\"text-align: right;\">\n",
       "      <th>speaker</th>\n",
       "      <th>1</th>\n",
       "      <th>2</th>\n",
       "      <th>3</th>\n",
       "      <th>4</th>\n",
       "      <th>5</th>\n",
       "      <th>6</th>\n",
       "      <th>7</th>\n",
       "      <th>8</th>\n",
       "      <th>9</th>\n",
       "    </tr>\n",
       "    <tr>\n",
       "      <th>frame_group</th>\n",
       "      <th></th>\n",
       "      <th></th>\n",
       "      <th></th>\n",
       "      <th></th>\n",
       "      <th></th>\n",
       "      <th></th>\n",
       "      <th></th>\n",
       "      <th></th>\n",
       "      <th></th>\n",
       "    </tr>\n",
       "  </thead>\n",
       "  <tbody>\n",
       "    <tr>\n",
       "      <td>11-15</td>\n",
       "      <td>291</td>\n",
       "      <td>282</td>\n",
       "      <td>372</td>\n",
       "      <td>363</td>\n",
       "      <td>171</td>\n",
       "      <td>266</td>\n",
       "      <td>322</td>\n",
       "      <td>203</td>\n",
       "      <td>215</td>\n",
       "    </tr>\n",
       "    <tr>\n",
       "      <td>15-20</td>\n",
       "      <td>153</td>\n",
       "      <td>58</td>\n",
       "      <td>70</td>\n",
       "      <td>278</td>\n",
       "      <td>21</td>\n",
       "      <td>137</td>\n",
       "      <td>130</td>\n",
       "      <td>9</td>\n",
       "      <td>56</td>\n",
       "    </tr>\n",
       "    <tr>\n",
       "      <td>21-25</td>\n",
       "      <td>37</td>\n",
       "      <td>1</td>\n",
       "      <td>5</td>\n",
       "      <td>91</td>\n",
       "      <td>1</td>\n",
       "      <td>20</td>\n",
       "      <td>18</td>\n",
       "      <td>0</td>\n",
       "      <td>1</td>\n",
       "    </tr>\n",
       "    <tr>\n",
       "      <td>6-10</td>\n",
       "      <td>305</td>\n",
       "      <td>325</td>\n",
       "      <td>577</td>\n",
       "      <td>370</td>\n",
       "      <td>294</td>\n",
       "      <td>270</td>\n",
       "      <td>350</td>\n",
       "      <td>399</td>\n",
       "      <td>294</td>\n",
       "    </tr>\n",
       "    <tr>\n",
       "      <td>&lt;=5</td>\n",
       "      <td>305</td>\n",
       "      <td>325</td>\n",
       "      <td>590</td>\n",
       "      <td>370</td>\n",
       "      <td>295</td>\n",
       "      <td>270</td>\n",
       "      <td>350</td>\n",
       "      <td>400</td>\n",
       "      <td>295</td>\n",
       "    </tr>\n",
       "    <tr>\n",
       "      <td>&gt;25</td>\n",
       "      <td>5</td>\n",
       "      <td>0</td>\n",
       "      <td>0</td>\n",
       "      <td>1</td>\n",
       "      <td>0</td>\n",
       "      <td>0</td>\n",
       "      <td>0</td>\n",
       "      <td>0</td>\n",
       "      <td>0</td>\n",
       "    </tr>\n",
       "  </tbody>\n",
       "</table>\n",
       "</div>"
      ],
      "text/plain": [
       "speaker        1    2    3    4    5    6    7    8    9\n",
       "frame_group                                             \n",
       "11-15        291  282  372  363  171  266  322  203  215\n",
       "15-20        153   58   70  278   21  137  130    9   56\n",
       "21-25         37    1    5   91    1   20   18    0    1\n",
       "6-10         305  325  577  370  294  270  350  399  294\n",
       "<=5          305  325  590  370  295  270  350  400  295\n",
       ">25            5    0    0    1    0    0    0    0    0"
      ]
     },
     "execution_count": 20,
     "metadata": {},
     "output_type": "execute_result"
    }
   ],
   "source": [
    "pd.crosstab(FML.frame_group, FML.speaker)"
   ]
  },
  {
   "cell_type": "code",
   "execution_count": 21,
   "metadata": {},
   "outputs": [
    {
     "data": {
      "text/html": [
       "<div>\n",
       "<style scoped>\n",
       "    .dataframe tbody tr th:only-of-type {\n",
       "        vertical-align: middle;\n",
       "    }\n",
       "\n",
       "    .dataframe tbody tr th {\n",
       "        vertical-align: top;\n",
       "    }\n",
       "\n",
       "    .dataframe thead th {\n",
       "        text-align: right;\n",
       "    }\n",
       "</style>\n",
       "<table border=\"1\" class=\"dataframe\">\n",
       "  <thead>\n",
       "    <tr style=\"text-align: right;\">\n",
       "      <th>speaker</th>\n",
       "      <th>1</th>\n",
       "      <th>2</th>\n",
       "      <th>3</th>\n",
       "      <th>4</th>\n",
       "      <th>5</th>\n",
       "      <th>6</th>\n",
       "      <th>7</th>\n",
       "      <th>8</th>\n",
       "      <th>9</th>\n",
       "    </tr>\n",
       "    <tr>\n",
       "      <th>utterance_group</th>\n",
       "      <th></th>\n",
       "      <th></th>\n",
       "      <th></th>\n",
       "      <th></th>\n",
       "      <th></th>\n",
       "      <th></th>\n",
       "      <th></th>\n",
       "      <th></th>\n",
       "      <th></th>\n",
       "    </tr>\n",
       "  </thead>\n",
       "  <tbody>\n",
       "    <tr>\n",
       "      <td>11-30</td>\n",
       "      <td>670</td>\n",
       "      <td>588</td>\n",
       "      <td>552</td>\n",
       "      <td>795</td>\n",
       "      <td>542</td>\n",
       "      <td>613</td>\n",
       "      <td>682</td>\n",
       "      <td>512</td>\n",
       "      <td>533</td>\n",
       "    </tr>\n",
       "    <tr>\n",
       "      <td>31-50</td>\n",
       "      <td>15</td>\n",
       "      <td>69</td>\n",
       "      <td>253</td>\n",
       "      <td>256</td>\n",
       "      <td>0</td>\n",
       "      <td>0</td>\n",
       "      <td>181</td>\n",
       "      <td>272</td>\n",
       "      <td>0</td>\n",
       "    </tr>\n",
       "    <tr>\n",
       "      <td>50-70</td>\n",
       "      <td>0</td>\n",
       "      <td>0</td>\n",
       "      <td>264</td>\n",
       "      <td>0</td>\n",
       "      <td>0</td>\n",
       "      <td>0</td>\n",
       "      <td>0</td>\n",
       "      <td>0</td>\n",
       "      <td>0</td>\n",
       "    </tr>\n",
       "    <tr>\n",
       "      <td>71-90</td>\n",
       "      <td>0</td>\n",
       "      <td>0</td>\n",
       "      <td>244</td>\n",
       "      <td>0</td>\n",
       "      <td>0</td>\n",
       "      <td>0</td>\n",
       "      <td>0</td>\n",
       "      <td>0</td>\n",
       "      <td>0</td>\n",
       "    </tr>\n",
       "    <tr>\n",
       "      <td>&lt;=10</td>\n",
       "      <td>411</td>\n",
       "      <td>334</td>\n",
       "      <td>301</td>\n",
       "      <td>422</td>\n",
       "      <td>240</td>\n",
       "      <td>350</td>\n",
       "      <td>307</td>\n",
       "      <td>227</td>\n",
       "      <td>328</td>\n",
       "    </tr>\n",
       "  </tbody>\n",
       "</table>\n",
       "</div>"
      ],
      "text/plain": [
       "speaker            1    2    3    4    5    6    7    8    9\n",
       "utterance_group                                             \n",
       "11-30            670  588  552  795  542  613  682  512  533\n",
       "31-50             15   69  253  256    0    0  181  272    0\n",
       "50-70              0    0  264    0    0    0    0    0    0\n",
       "71-90              0    0  244    0    0    0    0    0    0\n",
       "<=10             411  334  301  422  240  350  307  227  328"
      ]
     },
     "execution_count": 21,
     "metadata": {},
     "output_type": "execute_result"
    }
   ],
   "source": [
    "pd.crosstab(FML.utterance_group, FML.speaker)"
   ]
  },
  {
   "cell_type": "code",
   "execution_count": 23,
   "metadata": {},
   "outputs": [],
   "source": [
    "import seaborn as sns\n",
    "import matplotlib.pyplot as plt"
   ]
  },
  {
   "cell_type": "code",
   "execution_count": 29,
   "metadata": {},
   "outputs": [
    {
     "data": {
      "text/plain": [
       "<seaborn.axisgrid.FacetGrid at 0x1a21367b90>"
      ]
     },
     "execution_count": 29,
     "metadata": {},
     "output_type": "execute_result"
    },
    {
     "data": {
      "image/png": "[encoded data removed]",
      "text/plain": [
       "<Figure size 360x360 with 1 Axes>"
      ]
     },
     "metadata": {
      "needs_background": "light"
     },
     "output_type": "display_data"
    }
   ],
   "source": [
    "sns.catplot(y='speaker',data=FML,x='utterance_group',kind='box')"
   ]
  },
  {
   "cell_type": "code",
   "execution_count": 28,
   "metadata": {},
   "outputs": [
    {
     "data": {
      "text/plain": [
       "<seaborn.axisgrid.FacetGrid at 0x1a2103c910>"
      ]
     },
     "execution_count": 28,
     "metadata": {},
     "output_type": "execute_result"
    },
    {
     "data": {
      "image/png": "[encoded data removed]",
      "text/plain": [
       "<Figure size 360x360 with 1 Axes>"
      ]
     },
     "metadata": {
      "needs_background": "light"
     },
     "output_type": "display_data"
    }
   ],
   "source": [
    "sns.catplot(y='speaker',data=FML,x='frame_group',kind='box')"
   ]
  },
  {
   "cell_type": "code",
   "execution_count": 32,
   "metadata": {},
   "outputs": [
    {
     "data": {
      "text/plain": [
       "<seaborn.axisgrid.FacetGrid at 0x1a2254b550>"
      ]
     },
     "execution_count": 32,
     "metadata": {},
     "output_type": "execute_result"
    },
    {
     "data": {
      "image/png": "[encoded data removed]",
      "text/plain": [
       "<Figure size 1847.75x360 with 5 Axes>"
      ]
     },
     "metadata": {
      "needs_background": "light"
     },
     "output_type": "display_data"
    }
   ],
   "source": [
    "sns.catplot(x='frame_group',data=FML,palette='Set2',hue='speaker',col='utterance_group',kind='count') #BARPLOT"
   ]
  },
  {
   "cell_type": "code",
   "execution_count": 34,
   "metadata": {},
   "outputs": [
    {
     "data": {
      "image/png": "[encoded data removed]",
      "text/plain": [
       "<Figure size 576x576 with 2 Axes>"
      ]
     },
     "metadata": {
      "needs_background": "light"
     },
     "output_type": "display_data"
    }
   ],
   "source": [
    "fig = plt.figure(figsize=(8,8)) # 8 inch\n",
    "\n",
    "ax1=fig.add_subplot(121) # Grid of 2x2, this is suplot 1\n",
    "plt.xlabel('frame_group')\n",
    "plt.hist(FML['frame_group'])\n",
    "\n",
    "ax2=fig.add_subplot(122) # Grid of 2x2, this is suplot 1\n",
    "plt.xlabel('utterance_group')\n",
    "plt.hist(FML['utterance_group'],color='r')\n",
    "\n",
    "# Add an overall title\n",
    "\n",
    "plt.suptitle('Two subplots', size = 20)\n",
    "\n",
    "# Adjust the spacing between plots\n",
    "\n",
    "plt.tight_layout(pad=4)\n",
    "\n",
    "# Show plot\n",
    "\n",
    "plt.show()"
   ]
  },
  {
   "cell_type": "code",
   "execution_count": 36,
   "metadata": {},
   "outputs": [
    {
     "data": {
      "text/plain": [
       "<seaborn.axisgrid.FacetGrid at 0x1a227a7a50>"
      ]
     },
     "execution_count": 36,
     "metadata": {},
     "output_type": "execute_result"
    },
    {
     "data": {
      "image/png": "[encoded data removed]",
      "text/plain": [
       "<Figure size 407.75x360 with 1 Axes>"
      ]
     },
     "metadata": {
      "needs_background": "light"
     },
     "output_type": "display_data"
    }
   ],
   "source": [
    "sns.lmplot(x='frame',y='utterance',hue='speaker',data=FML,fit_reg=True)"
   ]
  },
  {
   "cell_type": "code",
   "execution_count": null,
   "metadata": {},
   "outputs": [],
   "source": []
  }
 ],
 "metadata": {
  "kernelspec": {
   "display_name": "Python 3",
   "language": "python",
   "name": "python3"
  },
  "language_info": {
   "codemirror_mode": {
    "name": "ipython",
    "version": 3
   },
   "file_extension": ".py",
   "mimetype": "text/x-python",
   "name": "python",
   "nbconvert_exporter": "python",
   "pygments_lexer": "ipython3",
   "version": "3.7.4"
  }
 },
 "nbformat": 4,
 "nbformat_minor": 2
}
